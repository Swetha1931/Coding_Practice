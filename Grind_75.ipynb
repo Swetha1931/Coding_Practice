{
  "nbformat": 4,
  "nbformat_minor": 0,
  "metadata": {
    "colab": {
      "provenance": [],
      "authorship_tag": "ABX9TyNAoZN1bx3ybqDnvE4RkD5a",
      "include_colab_link": true
    },
    "kernelspec": {
      "name": "python3",
      "display_name": "Python 3"
    },
    "language_info": {
      "name": "python"
    }
  },
  "cells": [
    {
      "cell_type": "markdown",
      "metadata": {
        "id": "view-in-github",
        "colab_type": "text"
      },
      "source": [
        "<a href=\"https://colab.research.google.com/github/Swetha1931/Coding_Practice/blob/main/Grind_75.ipynb\" target=\"_parent\"><img src=\"https://colab.research.google.com/assets/colab-badge.svg\" alt=\"Open In Colab\"/></a>"
      ]
    },
    {
      "cell_type": "markdown",
      "source": [
        "\n",
        "**TWO SUM PROBLEM:**\n",
        "\n",
        "Given an array of integers nums and an integer target, return indices of the two numbers such that they add up to target.\n",
        "You may assume that each input would have exactly one solution, and you may not use the same element twice.\n",
        "You can return the answer in any order.\n",
        "\n",
        "\n",
        "Example 1:\n",
        "Input: nums = [2,7,11,15], target = 9\n",
        "Output: [0,1]\n",
        "Explanation: Because nums[0] + nums[1] == 9, we return [0, 1].\n",
        "\n",
        "Example 2:\n",
        "Input: nums = [3,2,4], target = 6\n",
        "Output: [1,2]\n",
        "\n",
        "Example 3:\n",
        "Input: nums = [3,3], target = 6\n",
        "Output: [0,1]\n",
        "\n",
        "\n",
        "Constraints:\n",
        "\n",
        "2 <= nums.length <= 104 ,\n",
        "-109 <= nums[i] <= 109,\n",
        "-109 <= target <= 109,\n",
        "Only one valid answer exists."
      ],
      "metadata": {
        "id": "TvtV1l9IP-NC"
      }
    },
    {
      "cell_type": "code",
      "source": [
        "nums = [2,7,11,15]\n",
        "target = 9\n",
        "\n",
        "for i in range(len(nums)):\n",
        "  for j in range(i+1, len(nums)):\n",
        "    if nums[i]+nums[j] == target:\n",
        "      print(i,j)"
      ],
      "metadata": {
        "id": "OcFVdQnD1RGO",
        "colab": {
          "base_uri": "https://localhost:8080/"
        },
        "outputId": "77ab87c5-def2-407a-a589-7092b8a55f64"
      },
      "execution_count": null,
      "outputs": [
        {
          "output_type": "stream",
          "name": "stdout",
          "text": [
            "0 1\n"
          ]
        }
      ]
    },
    {
      "cell_type": "markdown",
      "source": [],
      "metadata": {
        "id": "BA2S7dVtP9dC"
      }
    },
    {
      "cell_type": "markdown",
      "source": [
        "**Find Closest Number to Zero**\n",
        "\n",
        "Given an integer array nums of size n, return the number with the value closest to 0 in nums. If there are multiple answers, return the number with the largest value."
      ],
      "metadata": {
        "id": "PfMvb25wK7U-"
      }
    },
    {
      "cell_type": "code",
      "source": [
        "nums = [-4,-2,1,4,8]\n",
        "\n",
        "closest = nums[0]\n",
        "\n",
        "for x in nums:\n",
        "  if abs(x)< abs(closest): closest = x\n",
        "\n",
        "if abs(closest) and closest < 0 in nums:\n",
        "  print(abs(closest))\n",
        "else:\n",
        "  print(closest)"
      ],
      "metadata": {
        "id": "0_lnE89FLLOo",
        "outputId": "7b9aa4cf-f57d-407f-a756-a4e28748cec7",
        "colab": {
          "base_uri": "https://localhost:8080/"
        }
      },
      "execution_count": 2,
      "outputs": [
        {
          "output_type": "stream",
          "name": "stdout",
          "text": [
            "1\n"
          ]
        }
      ]
    }
  ]
}