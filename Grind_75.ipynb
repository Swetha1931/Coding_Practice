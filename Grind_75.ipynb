{
  "nbformat": 4,
  "nbformat_minor": 0,
  "metadata": {
    "colab": {
      "provenance": [],
      "authorship_tag": "ABX9TyPpzamaqgVLysODSsdK6Nfz",
      "include_colab_link": true
    },
    "kernelspec": {
      "name": "python3",
      "display_name": "Python 3"
    },
    "language_info": {
      "name": "python"
    }
  },
  "cells": [
    {
      "cell_type": "markdown",
      "metadata": {
        "id": "view-in-github",
        "colab_type": "text"
      },
      "source": [
        "<a href=\"https://colab.research.google.com/github/Swetha1931/Coding_Practice/blob/main/Grind_75.ipynb\" target=\"_parent\"><img src=\"https://colab.research.google.com/assets/colab-badge.svg\" alt=\"Open In Colab\"/></a>"
      ]
    },
    {
      "cell_type": "markdown",
      "source": [
        "\n",
        "**1. Two Sum Problem**\n",
        "\n",
        "Given an array of integers nums and an integer target, return indices of the two numbers such that they add up to target.\n",
        "You may assume that each input would have exactly one solution, and you may not use the same element twice.\n",
        "You can return the answer in any order.\n",
        "\n",
        "\n",
        "Example 1:\n",
        "Input: nums = [2,7,11,15], target = 9\n",
        "Output: [0,1]\n",
        "Explanation: Because nums[0] + nums[1] == 9, we return [0, 1].\n",
        "\n",
        "Example 2:\n",
        "Input: nums = [3,2,4], target = 6\n",
        "Output: [1,2]\n",
        "\n",
        "Example 3:\n",
        "Input: nums = [3,3], target = 6\n",
        "Output: [0,1]\n",
        "\n",
        "\n",
        "Constraints:\n",
        "\n",
        "2 <= nums.length <= 104 ,\n",
        "-109 <= nums[i] <= 109,\n",
        "-109 <= target <= 109,\n",
        "Only one valid answer exists."
      ],
      "metadata": {
        "id": "TvtV1l9IP-NC"
      }
    },
    {
      "cell_type": "code",
      "source": [
        "nums = [2,7,11,15]\n",
        "target = 9\n",
        "\n",
        "for i in range(len(nums)):\n",
        "  for j in range(i+1, len(nums)):\n",
        "    if nums[i]+nums[j] == target:\n",
        "      print(i,j)"
      ],
      "metadata": {
        "id": "OcFVdQnD1RGO",
        "colab": {
          "base_uri": "https://localhost:8080/"
        },
        "outputId": "77ab87c5-def2-407a-a589-7092b8a55f64"
      },
      "execution_count": null,
      "outputs": [
        {
          "output_type": "stream",
          "name": "stdout",
          "text": [
            "0 1\n"
          ]
        }
      ]
    },
    {
      "cell_type": "markdown",
      "source": [],
      "metadata": {
        "id": "BA2S7dVtP9dC"
      }
    },
    {
      "cell_type": "markdown",
      "source": [
        "**2239. Find Closest Number to Zero**\n",
        "\n",
        "Given an integer array nums of size n, return the number with the value closest to 0 in nums. If there are multiple answers, return the number with the largest value."
      ],
      "metadata": {
        "id": "PfMvb25wK7U-"
      }
    },
    {
      "cell_type": "code",
      "source": [
        "nums = [-4,-2,1,4,8]\n",
        "\n",
        "closest = nums[0]\n",
        "\n",
        "for x in nums:\n",
        "  if abs(x)< abs(closest): closest = x\n",
        "\n",
        "if abs(closest) and closest < 0 in nums:\n",
        "  print(abs(closest))\n",
        "else:\n",
        "  print(closest)"
      ],
      "metadata": {
        "id": "0_lnE89FLLOo",
        "outputId": "7b9aa4cf-f57d-407f-a756-a4e28748cec7",
        "colab": {
          "base_uri": "https://localhost:8080/"
        }
      },
      "execution_count": null,
      "outputs": [
        {
          "output_type": "stream",
          "name": "stdout",
          "text": [
            "1\n"
          ]
        }
      ]
    },
    {
      "cell_type": "markdown",
      "source": [
        "**238. Product of Array Except Self**\n",
        "\n",
        "Given an integer array nums, return an array answer such that answer[i] is equal to the product of all the elements of nums except nums[i].\n",
        "\n",
        "The product of any prefix or suffix of nums is guaranteed to fit in a 32-bit integer.\n",
        "\n",
        "You must write an algorithm that runs in O(n) time and without using the division operation."
      ],
      "metadata": {
        "id": "4g9MlD6xTtNP"
      }
    },
    {
      "cell_type": "code",
      "source": [
        "nums = [1,2,3,4]\n",
        "\n",
        "l_mult = 1\n",
        "r_mult = 1\n",
        "n =len(nums)\n",
        "left = [0] * n\n",
        "right = [0] * n\n",
        "\n",
        "for i in range(n):\n",
        "  j = -i-1\n",
        "  left[i] = l_mult\n",
        "  right[j] = r_mult\n",
        "  l_mult *= nums[i]\n",
        "  r_mult *= nums[j]\n",
        "\n",
        "print([l*r for l, r in zip(left, right)])\n"
      ],
      "metadata": {
        "colab": {
          "base_uri": "https://localhost:8080/"
        },
        "id": "vi7hb2RGTtZI",
        "outputId": "f3764815-89e8-41d6-c2ff-df84437fea08"
      },
      "execution_count": null,
      "outputs": [
        {
          "output_type": "stream",
          "name": "stdout",
          "text": [
            "[24, 12, 8, 6]\n"
          ]
        }
      ]
    },
    {
      "cell_type": "markdown",
      "source": [
        "**1768. Merge Strings Alternately**\n",
        "\n",
        "You are given two strings word1 and word2. Merge the strings by adding letters in alternating order, starting with word1. If a string is longer than the other, append the additional letters onto the end of the merged string.\n",
        "\n",
        "Return the merged string."
      ],
      "metadata": {
        "id": "1EXuIN1_TuD6"
      }
    },
    {
      "cell_type": "code",
      "source": [
        "word1 = \"abc\"\n",
        "word2 = \"pqrst\"\n",
        "\n",
        "word = 1; a = 0 ; b = 0\n",
        "A = len(word1); B=len(word2)\n",
        "s = []\n",
        "\n",
        "while a<A and b<B:\n",
        "    if word == 1:\n",
        "        s.append(word1[a])\n",
        "        a += 1\n",
        "        word = 2\n",
        "    else:\n",
        "        s.append(word2[b])\n",
        "        b += 1\n",
        "        word = 1\n",
        "\n",
        "while a<A:\n",
        "    s.append(word1[a])\n",
        "    a += 1\n",
        "\n",
        "while b<B:\n",
        "    s.append(word2[b])\n",
        "    b += 1\n",
        "\n",
        "print(''.join(s))\n"
      ],
      "metadata": {
        "colab": {
          "base_uri": "https://localhost:8080/"
        },
        "id": "5Rjk6Z-xTuO0",
        "outputId": "6a44d810-a575-4488-d274-2bece7a650f0"
      },
      "execution_count": null,
      "outputs": [
        {
          "output_type": "stream",
          "name": "stdout",
          "text": [
            "apbqcrst\n"
          ]
        }
      ]
    },
    {
      "cell_type": "markdown",
      "source": [
        "**13. Roman to Integer**\n",
        "\n",
        "Roman numerals are represented by seven different symbols: I, V, X, L, C, D and M.\n",
        "\n",
        "For example, 2 is written as II in Roman numeral, just two ones added together. 12 is written as XII, which is simply X + II. The number 27 is written as XXVII, which is XX + V + II.\n",
        "\n",
        "Given a roman numeral, convert it to an integer.\n"
      ],
      "metadata": {
        "id": "lbOdiwE_VHJx"
      }
    },
    {
      "cell_type": "code",
      "source": [
        "s = \"MCMXCIV\"\n",
        "\n",
        "summ = 0\n",
        "d = {\"I\": 1, \"V\": 5, \"X\": 10, \"L\": 50, \"C\": 100 , \"D\": 500, \"M\": 1000}\n",
        "i = 0\n",
        "n = len(s)\n",
        "\n",
        "while i<n:\n",
        "    if i<n-1 and d[s[i]] < d[s[i+1]]:\n",
        "        summ += d[s[i+1]] - d[s[i]]\n",
        "        i += 2\n",
        "    else:\n",
        "        summ += d[s[i]]\n",
        "        i += 1\n",
        "\n",
        "print(summ)"
      ],
      "metadata": {
        "id": "QIWA26LqhLjJ",
        "outputId": "7a97980f-9ca2-4503-f034-83e42a4b654b",
        "colab": {
          "base_uri": "https://localhost:8080/"
        }
      },
      "execution_count": null,
      "outputs": [
        {
          "output_type": "stream",
          "name": "stdout",
          "text": [
            "1994\n"
          ]
        }
      ]
    },
    {
      "cell_type": "markdown",
      "source": [
        "**392. Is Subsequence**\n",
        "\n",
        "Given two strings s and t, return true if s is a subsequence of t, or false otherwise.\n",
        "\n",
        "A subsequence of a string is a new string that is formed from the original string by deleting some (can be none) of the characters without disturbing the relative positions of the remaining characters. (i.e., \"ace\" is a subsequence of \"abcde\" while \"aec\" is not)."
      ],
      "metadata": {
        "id": "cTagLJAJLgwL"
      }
    },
    {
      "cell_type": "code",
      "source": [
        "s = \"abc\"; t = \"ahbgdc\"\n",
        "\n",
        "T = len(t); S = len(s)\n",
        "\n",
        "if s == \"\": print(\"True\")\n",
        "if S > T: print (\"False\")\n",
        "j=0; found = False\n",
        "\n",
        "for i in range(T):\n",
        "    if t[i] == s[j]:\n",
        "        if j == S-1:\n",
        "            print(\"True\")\n",
        "            exit()\n",
        "        j += 1\n"
      ],
      "metadata": {
        "colab": {
          "base_uri": "https://localhost:8080/"
        },
        "id": "DOVVe-ihLg6f",
        "outputId": "1d923de7-5b35-4c83-ed06-e9abea39ee4c"
      },
      "execution_count": null,
      "outputs": [
        {
          "output_type": "stream",
          "name": "stdout",
          "text": [
            "True\n"
          ]
        }
      ]
    },
    {
      "cell_type": "markdown",
      "source": [
        "**121. Best Time to Buy and Sell Stock**\n",
        "\n",
        "You are given an array prices where prices[i] is the price of a given stock on the ith day.\n",
        "\n",
        "You want to maximize your profit by choosing a single day to buy one stock and choosing a different day in the future to sell that stock.\n",
        "\n",
        "Return the maximum profit you can achieve from this transaction. If you cannot achieve any profit, return 0."
      ],
      "metadata": {
        "id": "J9mepBfuTNFv"
      }
    },
    {
      "cell_type": "code",
      "source": [
        "#Brute Force method\n",
        "\n",
        "prices = [7,1,5,3,6,4]\n",
        "\n",
        "maxi = float('-inf')\n",
        "\n",
        "for i in range(len(prices)):\n",
        "    for j in range(i+1, len(prices)):\n",
        "        prof = prices[j] - prices[i]\n",
        "\n",
        "        if prof > 0:\n",
        "            maxi = max(maxi, prof)\n",
        "\n",
        "print (maxi if maxi > float('-inf') else 0)"
      ],
      "metadata": {
        "colab": {
          "base_uri": "https://localhost:8080/"
        },
        "id": "7sEE3ASrTNfy",
        "outputId": "fd7bbc9f-9a5b-43ad-f06a-9baa6c98f928"
      },
      "execution_count": null,
      "outputs": [
        {
          "output_type": "stream",
          "name": "stdout",
          "text": [
            "5\n"
          ]
        }
      ]
    },
    {
      "cell_type": "code",
      "source": [
        "#Optimal O(n) method\n",
        "\n",
        "prices = [7,1,5,3,6,4]\n",
        "\n",
        "maxi = 0\n",
        "mini = float('inf')\n",
        "for i in range(len(prices)):\n",
        "    if prices[i] < mini:\n",
        "        mini = prices[i]\n",
        "\n",
        "    profit = prices[i] - mini\n",
        "    if profit > maxi:\n",
        "        maxi = profit\n",
        "\n",
        "print(maxi)"
      ],
      "metadata": {
        "id": "HjdbZvUoTZSu"
      },
      "execution_count": null,
      "outputs": []
    },
    {
      "cell_type": "markdown",
      "source": [
        "**14. Longest Common Prefix**\n",
        "\n",
        "Write a function to find the longest common prefix string amongst an array of strings.\n",
        "\n",
        "If there is no common prefix, return an empty string \"\"."
      ],
      "metadata": {
        "id": "kug1U3rpoWdW"
      }
    },
    {
      "cell_type": "code",
      "source": [
        "strs = [\"abcde\", \"abcd\", \"abc\"]\n",
        "\n",
        "min_len = float('inf')\n",
        "i = 0\n",
        "\n",
        "for s in strs:\n",
        "    if len(s)< min_len:\n",
        "        min_len = len(s)\n",
        "\n",
        "while i in range(min_len):\n",
        "    for s in strs:\n",
        "        if s[i]!= strs[0][i]:\n",
        "            print(s[:i])\n",
        "    i += 1\n",
        "\n",
        "print(s[:i])\n",
        "\n"
      ],
      "metadata": {
        "colab": {
          "base_uri": "https://localhost:8080/"
        },
        "id": "CfPwi1MqTNoA",
        "outputId": "7c72dcdc-dff9-4076-9890-283f8714bec4"
      },
      "execution_count": null,
      "outputs": [
        {
          "output_type": "stream",
          "name": "stdout",
          "text": [
            "abc\n"
          ]
        }
      ]
    },
    {
      "cell_type": "markdown",
      "source": [
        "**228. Summary Ranges**\n",
        "\n",
        "You are given a sorted unique integer array nums.\n",
        "\n",
        "A range [a,b] is the set of all integers from a to b.\n",
        "\n",
        "Return the smallest sorted list of ranges that cover all the numbers in the array exactly. That is, each element of nums is covered by exactly one of the ranges, and there is no integer x such that x is in one of the ranges but not in nums."
      ],
      "metadata": {
        "id": "mpxgS8taHjYX"
      }
    },
    {
      "cell_type": "code",
      "source": [
        "nums = [0,1,2,4,5,7]\n",
        "i=0\n",
        "new = []\n",
        "\n",
        "while i in range(len(nums)):\n",
        "    start = nums[i]\n",
        "    while i<len(nums)-1 and nums[i] +1 == nums[i+1]:\n",
        "        i+=1\n",
        "\n",
        "    if start == nums[i]:\n",
        "        new.append(str(nums[i]))\n",
        "    else:\n",
        "        new.append(str(start) + \"->\" + str(nums[i]))\n",
        "    i+=1\n",
        "print(new)"
      ],
      "metadata": {
        "id": "_wXkRaJgHjjH"
      },
      "execution_count": null,
      "outputs": []
    },
    {
      "cell_type": "code",
      "source": [
        "'''\n",
        "Given an array of intervals where intervals[i] = [starti, endi], merge all overlapping intervals, and return an array of the non-overlapping intervals that cover all the intervals in the input.\n",
        "'''\n",
        "\n",
        "intervals = [[2,6],[1,3],[8,10],[10,12],[15,18]]\n",
        "intervals.sort(key = lambda x: x[0])\n",
        "merged = []\n",
        "\n",
        "for interval in intervals:\n",
        "    if not merged or merged[-1][1] < interval[0]:\n",
        "        merged.append(interval)\n",
        "    else:\n",
        "        merged[-1][1] = max(merged[-1][1], interval[1])\n",
        "\n",
        "print (merged)\n"
      ],
      "metadata": {
        "id": "tK-qG6EtXf-1",
        "outputId": "93861fce-1cd2-4551-86f0-26222f418157",
        "colab": {
          "base_uri": "https://localhost:8080/"
        }
      },
      "execution_count": null,
      "outputs": [
        {
          "output_type": "stream",
          "name": "stdout",
          "text": [
            "[[1, 6], [8, 12], [15, 18]]\n"
          ]
        }
      ]
    },
    {
      "cell_type": "markdown",
      "source": [
        "**54. Spiral Matrix**\n",
        "\n",
        "Given an m x n matrix, return all elements of the matrix in spiral order."
      ],
      "metadata": {
        "id": "Koq2X5FxOPs1"
      }
    },
    {
      "cell_type": "code",
      "source": [
        "matrix = [\n",
        " [1,2,3,4],\n",
        " [5,6,7,8],\n",
        " [9,10,11,12]]\n",
        "\n",
        "m = len(matrix); n = len(matrix[0])\n",
        "i = 0; j = 0\n",
        "UP = 0; RIGHT = 1; DOWN = 2 ; LEFT = 3 ;\n",
        "UP_WALL = 0\n",
        "DOWN_WALL = m\n",
        "RIGHT_WALL = n\n",
        "LEFT_WALL = -1\n",
        "ans = []\n",
        "DIRECTION = RIGHT\n",
        "\n",
        "while len(ans) != m*n:\n",
        "    if DIRECTION == RIGHT:\n",
        "        while j < RIGHT_WALL:\n",
        "            ans.append(matrix[i][j])\n",
        "            j += 1\n",
        "        i +=1 ; j -= 1\n",
        "        RIGHT_WALL -= 1\n",
        "        DIRECTION = DOWN\n",
        "\n",
        "    elif DIRECTION == DOWN:\n",
        "        while i < DOWN_WALL:\n",
        "            ans.append(matrix[i][j])\n",
        "            i += 1\n",
        "        i -=1 ; j -= 1\n",
        "        DOWN_WALL -=1\n",
        "        DIRECTION = LEFT\n",
        "\n",
        "    elif DIRECTION == LEFT:\n",
        "        while j > LEFT_WALL:\n",
        "            ans.append(matrix[i][j])\n",
        "            j -= 1\n",
        "        i -=1 ; j +=1\n",
        "        LEFT_WALL +=1\n",
        "        DIRECTION = UP\n",
        "\n",
        "    else:\n",
        "        while i > UP_WALL:\n",
        "            ans.append(matrix[i][j])\n",
        "            i -= 1\n",
        "        i +=1 ; j +=1\n",
        "        UP_WALL +=1\n",
        "        DIRECTION = RIGHT\n",
        "\n",
        "print(ans)\n"
      ],
      "metadata": {
        "colab": {
          "base_uri": "https://localhost:8080/"
        },
        "id": "p6OJVLofOP2g",
        "outputId": "72cf6999-b545-41aa-f42d-45aeba7726ab"
      },
      "execution_count": 2,
      "outputs": [
        {
          "output_type": "stream",
          "name": "stdout",
          "text": [
            "[1, 2, 3, 4, 8, 12, 11, 10, 9, 5, 6, 7]\n"
          ]
        }
      ]
    },
    {
      "cell_type": "code",
      "source": [
        "matrix = [[1,2,3,4],[5,6,7,8],[9,10,11,12]]\n",
        "\n",
        "ans = []\n",
        "\n",
        "#while matrix still has elements, this loop continues\n",
        "while(matrix):\n",
        "    #Top row is popped\n",
        "    ans += matrix.pop(0)\n",
        "\n",
        "    #Last column is popped row.pop()\n",
        "    if matrix and matrix[0]:\n",
        "        for row in matrix:\n",
        "            ans.append(row.pop())\n",
        "\n",
        "    #Last row is popped in reverse\n",
        "    if matrix:\n",
        "        ans += matrix.pop()[::-1]\n",
        "\n",
        "    #First column is popped in reverse order\n",
        "    if matrix and matrix[0]:\n",
        "        for row in matrix[::-1]:\n",
        "            ans.append(row.pop(0))\n",
        "\n",
        "print (ans)"
      ],
      "metadata": {
        "colab": {
          "base_uri": "https://localhost:8080/"
        },
        "id": "fnoYwzcJOQLL",
        "outputId": "3a867b75-344a-4a05-90d8-1761dbdd9094"
      },
      "execution_count": 3,
      "outputs": [
        {
          "output_type": "stream",
          "name": "stdout",
          "text": [
            "[1, 2, 3, 4, 8, 12, 11, 10, 9, 5, 6, 7]\n"
          ]
        }
      ]
    }
  ]
}