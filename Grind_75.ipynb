{
  "nbformat": 4,
  "nbformat_minor": 0,
  "metadata": {
    "colab": {
      "provenance": [],
      "authorship_tag": "ABX9TyMURzvqoARA3odEkIeCkkK5",
      "include_colab_link": true
    },
    "kernelspec": {
      "name": "python3",
      "display_name": "Python 3"
    },
    "language_info": {
      "name": "python"
    }
  },
  "cells": [
    {
      "cell_type": "markdown",
      "metadata": {
        "id": "view-in-github",
        "colab_type": "text"
      },
      "source": [
        "<a href=\"https://colab.research.google.com/github/Swetha1931/Coding_Practice/blob/main/Grind_75.ipynb\" target=\"_parent\"><img src=\"https://colab.research.google.com/assets/colab-badge.svg\" alt=\"Open In Colab\"/></a>"
      ]
    },
    {
      "cell_type": "markdown",
      "source": [
        "\n",
        "**1. Two Sum Problem**\n",
        "\n",
        "Given an array of integers nums and an integer target, return indices of the two numbers such that they add up to target.\n",
        "You may assume that each input would have exactly one solution, and you may not use the same element twice.\n",
        "You can return the answer in any order.\n",
        "\n",
        "\n",
        "Example 1:\n",
        "Input: nums = [2,7,11,15], target = 9\n",
        "Output: [0,1]\n",
        "Explanation: Because nums[0] + nums[1] == 9, we return [0, 1].\n",
        "\n",
        "Example 2:\n",
        "Input: nums = [3,2,4], target = 6\n",
        "Output: [1,2]\n",
        "\n",
        "Example 3:\n",
        "Input: nums = [3,3], target = 6\n",
        "Output: [0,1]\n",
        "\n",
        "\n",
        "Constraints:\n",
        "\n",
        "2 <= nums.length <= 104 ,\n",
        "-109 <= nums[i] <= 109,\n",
        "-109 <= target <= 109,\n",
        "Only one valid answer exists."
      ],
      "metadata": {
        "id": "TvtV1l9IP-NC"
      }
    },
    {
      "cell_type": "code",
      "source": [
        "nums = [2,7,11,15]\n",
        "target = 9\n",
        "\n",
        "for i in range(len(nums)):\n",
        "  for j in range(i+1, len(nums)):\n",
        "    if nums[i]+nums[j] == target:\n",
        "      print(i,j)"
      ],
      "metadata": {
        "id": "OcFVdQnD1RGO",
        "colab": {
          "base_uri": "https://localhost:8080/"
        },
        "outputId": "77ab87c5-def2-407a-a589-7092b8a55f64"
      },
      "execution_count": null,
      "outputs": [
        {
          "output_type": "stream",
          "name": "stdout",
          "text": [
            "0 1\n"
          ]
        }
      ]
    },
    {
      "cell_type": "markdown",
      "source": [],
      "metadata": {
        "id": "BA2S7dVtP9dC"
      }
    },
    {
      "cell_type": "markdown",
      "source": [
        "**2239. Find Closest Number to Zero**\n",
        "\n",
        "Given an integer array nums of size n, return the number with the value closest to 0 in nums. If there are multiple answers, return the number with the largest value."
      ],
      "metadata": {
        "id": "PfMvb25wK7U-"
      }
    },
    {
      "cell_type": "code",
      "source": [
        "nums = [-4,-2,1,4,8]\n",
        "\n",
        "closest = nums[0]\n",
        "\n",
        "for x in nums:\n",
        "  if abs(x)< abs(closest): closest = x\n",
        "\n",
        "if abs(closest) and closest < 0 in nums:\n",
        "  print(abs(closest))\n",
        "else:\n",
        "  print(closest)"
      ],
      "metadata": {
        "id": "0_lnE89FLLOo",
        "outputId": "7b9aa4cf-f57d-407f-a756-a4e28748cec7",
        "colab": {
          "base_uri": "https://localhost:8080/"
        }
      },
      "execution_count": null,
      "outputs": [
        {
          "output_type": "stream",
          "name": "stdout",
          "text": [
            "1\n"
          ]
        }
      ]
    },
    {
      "cell_type": "markdown",
      "source": [
        "**238. Product of Array Except Self**\n",
        "\n",
        "Given an integer array nums, return an array answer such that answer[i] is equal to the product of all the elements of nums except nums[i].\n",
        "\n",
        "The product of any prefix or suffix of nums is guaranteed to fit in a 32-bit integer.\n",
        "\n",
        "You must write an algorithm that runs in O(n) time and without using the division operation."
      ],
      "metadata": {
        "id": "4g9MlD6xTtNP"
      }
    },
    {
      "cell_type": "code",
      "source": [
        "nums = [1,2,3,4]\n",
        "\n",
        "l_mult = 1\n",
        "r_mult = 1\n",
        "n =len(nums)\n",
        "left = [0] * n\n",
        "right = [0] * n\n",
        "\n",
        "for i in range(n):\n",
        "  j = -i-1\n",
        "  left[i] = l_mult\n",
        "  right[j] = r_mult\n",
        "  l_mult *= nums[i]\n",
        "  r_mult *= nums[j]\n",
        "\n",
        "print([l*r for l, r in zip(left, right)])\n",
        ""
      ],
      "metadata": {
        "colab": {
          "base_uri": "https://localhost:8080/"
        },
        "id": "vi7hb2RGTtZI",
        "outputId": "f3764815-89e8-41d6-c2ff-df84437fea08"
      },
      "execution_count": 2,
      "outputs": [
        {
          "output_type": "stream",
          "name": "stdout",
          "text": [
            "[24, 12, 8, 6]\n"
          ]
        }
      ]
    },
    {
      "cell_type": "markdown",
      "source": [
        "**1768. Merge Strings Alternately**\n",
        "\n",
        "You are given two strings word1 and word2. Merge the strings by adding letters in alternating order, starting with word1. If a string is longer than the other, append the additional letters onto the end of the merged string.\n",
        "\n",
        "Return the merged string."
      ],
      "metadata": {
        "id": "1EXuIN1_TuD6"
      }
    },
    {
      "cell_type": "code",
      "source": [
        "word1 = \"abc\"\n",
        "word2 = \"pqrst\"\n",
        "\n",
        "word = 1; a = 0 ; b = 0\n",
        "A = len(word1); B=len(word2)\n",
        "s = []\n",
        "\n",
        "while a<A and b<B:\n",
        "    if word == 1:\n",
        "        s.append(word1[a])\n",
        "        a += 1\n",
        "        word = 2\n",
        "    else:\n",
        "        s.append(word2[b])\n",
        "        b += 1\n",
        "        word = 1\n",
        "\n",
        "while a<A:\n",
        "    s.append(word1[a])\n",
        "    a += 1\n",
        "\n",
        "while b<B:\n",
        "    s.append(word2[b])\n",
        "    b += 1\n",
        "\n",
        "print(''.join(s))\n",
        ""
      ],
      "metadata": {
        "colab": {
          "base_uri": "https://localhost:8080/"
        },
        "id": "5Rjk6Z-xTuO0",
        "outputId": "6a44d810-a575-4488-d274-2bece7a650f0"
      },
      "execution_count": 1,
      "outputs": [
        {
          "output_type": "stream",
          "name": "stdout",
          "text": [
            "apbqcrst\n"
          ]
        }
      ]
    },
    {
      "cell_type": "markdown",
      "source": [
        "**13. Roman to Integer**\n",
        "\n",
        "Roman numerals are represented by seven different symbols: I, V, X, L, C, D and M.\n",
        "\n",
        "For example, 2 is written as II in Roman numeral, just two ones added together. 12 is written as XII, which is simply X + II. The number 27 is written as XXVII, which is XX + V + II.\n",
        "\n",
        "Given a roman numeral, convert it to an integer.\n"
      ],
      "metadata": {
        "id": "lbOdiwE_VHJx"
      }
    },
    {
      "cell_type": "code",
      "source": [
        "s = \"MCMXCIV\"\n",
        "\n",
        "summ = 0\n",
        "d = {\"I\": 1, \"V\": 5, \"X\": 10, \"L\": 50, \"C\": 100 , \"D\": 500, \"M\": 1000}\n",
        "i = 0\n",
        "n = len(s)\n",
        "\n",
        "while i<n:\n",
        "    if i<n-1 and d[s[i]] < d[s[i+1]]:\n",
        "        summ += d[s[i+1]] - d[s[i]]\n",
        "        i += 2\n",
        "    else:\n",
        "        summ += d[s[i]]\n",
        "        i += 1\n",
        "\n",
        "print(summ)"
      ],
      "metadata": {
        "id": "QIWA26LqhLjJ",
        "outputId": "7a97980f-9ca2-4503-f034-83e42a4b654b",
        "colab": {
          "base_uri": "https://localhost:8080/"
        }
      },
      "execution_count": 3,
      "outputs": [
        {
          "output_type": "stream",
          "name": "stdout",
          "text": [
            "1994\n"
          ]
        }
      ]
    }
  ]
}