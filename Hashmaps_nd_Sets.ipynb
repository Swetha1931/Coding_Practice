{
  "nbformat": 4,
  "nbformat_minor": 0,
  "metadata": {
    "colab": {
      "provenance": [],
      "authorship_tag": "ABX9TyN53epZc5EexWvXD5pXtGQy",
      "include_colab_link": true
    },
    "kernelspec": {
      "name": "python3",
      "display_name": "Python 3"
    },
    "language_info": {
      "name": "python"
    }
  },
  "cells": [
    {
      "cell_type": "markdown",
      "metadata": {
        "id": "view-in-github",
        "colab_type": "text"
      },
      "source": [
        "<a href=\"https://colab.research.google.com/github/Swetha1931/Coding_Practice/blob/main/Hashmaps_nd_Sets.ipynb\" target=\"_parent\"><img src=\"https://colab.research.google.com/assets/colab-badge.svg\" alt=\"Open In Colab\"/></a>"
      ]
    },
    {
      "cell_type": "markdown",
      "source": [
        "**771. Jewels and Stones**\n",
        "\n",
        "You're given strings jewels representing the types of stones that are jewels, and stones representing the stones you have. Each character in stones is a type of stone you have. You want to know how many of the stones you have are also jewels.\n",
        "\n",
        "Letters are case sensitive, so \"a\" is considered a different type of stone from \"A\"."
      ],
      "metadata": {
        "id": "zsDTNTbL7C8a"
      }
    },
    {
      "cell_type": "code",
      "source": [
        "#Brute force\n",
        "#Time complexity O(n*m) - n-jewls, m- stones\n",
        "#Space complexity O(1) - storing only \"out\"\n",
        "jewels = \"aA\"\n",
        "stones = \"aAAbbbb\"\n",
        "\n",
        "out = 0\n",
        "\n",
        "for i in range(len(stones)):\n",
        "    for j in range(len(jewels)):\n",
        "        if jewels[j] == stones[i]:\n",
        "            out += 1\n",
        "\n",
        "print(out)"
      ],
      "metadata": {
        "id": "hrxwv3I27Ddq"
      },
      "execution_count": null,
      "outputs": []
    },
    {
      "cell_type": "code",
      "source": [
        "#Hashmap , Set\n",
        "#Time complexity O(n + m) - n-jewls, m- stones\n",
        "#Space complexity O(n) - storing the set and \"out\"\n",
        "\n",
        "jewels = \"aA\"\n",
        "stones = \"aAAbbbb\"\n",
        "\n",
        "s = set(jewels)\n",
        "out = 0\n",
        "\n",
        "for stone in stones:\n",
        "    if stone in s:\n",
        "        out += 1\n",
        "\n",
        "print(out)"
      ],
      "metadata": {
        "id": "we66lZBa7RtP"
      },
      "execution_count": null,
      "outputs": []
    },
    {
      "cell_type": "markdown",
      "source": [
        "**217. Contains Duplicate**\n",
        "\n",
        "Given an integer array nums, return true if any value appears at least twice in the array, and return false if every element is distinct."
      ],
      "metadata": {
        "id": "fPnJr1st7Do9"
      }
    },
    {
      "cell_type": "code",
      "source": [
        "nums = [1,2,3,1]\n",
        "\n",
        "s = set()\n",
        "\n",
        "for num in nums:\n",
        "    if num in s:\n",
        "        print(True)\n",
        "        exit()\n",
        "    else:\n",
        "        s.add(num)\n",
        "print(False)"
      ],
      "metadata": {
        "id": "Wnc-en_Y7D1C",
        "colab": {
          "base_uri": "https://localhost:8080/"
        },
        "outputId": "e4abff7a-90ad-4597-d391-99d61785910f"
      },
      "execution_count": 2,
      "outputs": [
        {
          "output_type": "stream",
          "name": "stdout",
          "text": [
            "True\n",
            "False\n"
          ]
        }
      ]
    },
    {
      "cell_type": "markdown",
      "source": [],
      "metadata": {
        "id": "IX9UePrk7EEF"
      }
    },
    {
      "cell_type": "code",
      "source": [],
      "metadata": {
        "id": "GfsmOPq47ENk"
      },
      "execution_count": null,
      "outputs": []
    },
    {
      "cell_type": "markdown",
      "source": [
        "**1. Two Sum**\n",
        "\n",
        "Given an array of integers nums and an integer target, return indices of the two numbers such that they add up to target.\n",
        "\n",
        "You may assume that each input would have exactly one solution, and you may not use the same element twice.\n",
        "\n",
        "You can return the answer in any order."
      ],
      "metadata": {
        "id": "VChM07zBFuOz"
      }
    },
    {
      "cell_type": "code",
      "source": [
        "nums = [3,3]\n",
        "target = 6\n",
        "\n",
        "for i in range(len(nums)):\n",
        "    for j in range(i+1, len(nums)):\n",
        "        if target == nums[i] + nums[j]:\n",
        "            print([i,j])"
      ],
      "metadata": {
        "colab": {
          "base_uri": "https://localhost:8080/"
        },
        "id": "uBtKP7ONFu4t",
        "outputId": "0f0bf490-1dfb-4ed0-eb97-a0d73c0edfa2"
      },
      "execution_count": 5,
      "outputs": [
        {
          "output_type": "stream",
          "name": "stdout",
          "text": [
            "[0, 1]\n"
          ]
        }
      ]
    },
    {
      "cell_type": "code",
      "source": [
        "nums = [3,2,4]\n",
        "target = 6\n",
        "\n",
        "for i in range(len(nums)):\n",
        "  y = target - nums[i]\n",
        "  if y in nums and nums.index(y) != i:\n",
        "    print([i,nums.index(y)])\n"
      ],
      "metadata": {
        "colab": {
          "base_uri": "https://localhost:8080/"
        },
        "id": "HO_kGe-zTLKl",
        "outputId": "7834da94-6238-40a9-907d-6f784e6b5cf4"
      },
      "execution_count": 7,
      "outputs": [
        {
          "output_type": "stream",
          "name": "stdout",
          "text": [
            "[1, 2]\n",
            "[2, 1]\n"
          ]
        }
      ]
    },
    {
      "cell_type": "code",
      "source": [
        "nums = [3,2,4]\n",
        "target = 6\n",
        "h ={}\n",
        "\n",
        "for i in range(len(nums)):\n",
        "  y = target - nums[i]\n",
        "  if y in h:\n",
        "    print ([i,h[y]])\n",
        "  h[nums[i]] = i"
      ],
      "metadata": {
        "colab": {
          "base_uri": "https://localhost:8080/"
        },
        "id": "gkKPvixSSzSK",
        "outputId": "b58146d5-04d6-4bc2-b721-ef7c91310aa5"
      },
      "execution_count": 8,
      "outputs": [
        {
          "output_type": "stream",
          "name": "stdout",
          "text": [
            "[2, 1]\n"
          ]
        }
      ]
    },
    {
      "cell_type": "code",
      "source": [
        "nums = [3,2,4]\n",
        "target = 6\n",
        "h ={}\n",
        "\n",
        "for i in range(len(nums)):\n",
        "    h[nums[i]] = i\n",
        "\n",
        "for i in range(len(nums)):\n",
        "    y = target - nums[i]\n",
        "    if y in h and h[y] !=i:\n",
        "        print([i,h[y]])\n",
        "\n",
        ""
      ],
      "metadata": {
        "colab": {
          "base_uri": "https://localhost:8080/"
        },
        "id": "AgeKkXRvS0Cd",
        "outputId": "85daeb17-5dc4-40dc-a589-38c621bcd80d"
      },
      "execution_count": 11,
      "outputs": [
        {
          "output_type": "stream",
          "name": "stdout",
          "text": [
            "[1, 2]\n",
            "[2, 1]\n"
          ]
        }
      ]
    }
  ]
}